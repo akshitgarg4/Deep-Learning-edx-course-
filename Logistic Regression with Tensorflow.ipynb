{
 "cells": [
  {
   "cell_type": "code",
   "execution_count": 3,
   "metadata": {},
   "outputs": [],
   "source": [
    "import tensorflow as tf\n",
    "import pandas as pd\n",
    "import numpy as np\n",
    "import time\n",
    "from sklearn.datasets import load_iris\n",
    "from sklearn.model_selection import train_test_split\n",
    "import matplotlib.pyplot as plt"
   ]
  },
  {
   "cell_type": "code",
   "execution_count": 4,
   "metadata": {},
   "outputs": [],
   "source": [
    "iris = load_iris()\n",
    "iris_X, iris_y = iris.data[:-1,:], iris.target[:-1]\n",
    "iris_y= pd.get_dummies(iris_y).values\n",
    "trainX, testX, trainY, testY = train_test_split(iris_X, iris_y, test_size=0.33, random_state=42)"
   ]
  },
  {
   "cell_type": "code",
   "execution_count": 5,
   "metadata": {},
   "outputs": [],
   "source": [
    "# numFeatures is the number of features in our input data.\n",
    "# In the iris dataset, this number is '4'.\n",
    "numFeatures = trainX.shape[1]\n",
    "\n",
    "# numLabels is the number of classes our data points can be in.\n",
    "# In the iris dataset, this number is '3'.\n",
    "numLabels = trainY.shape[1]\n",
    "\n",
    "\n",
    "# Placeholders\n",
    "# 'None' means TensorFlow shouldn't expect a fixed number in that dimension\n",
    "X = tf.placeholder(tf.float32, [None, numFeatures]) # Iris has 4 features, so X is a tensor to hold our data.\n",
    "yGold = tf.placeholder(tf.float32, [None, numLabels]) # This will be our correct answers matrix for 3 classes."
   ]
  },
  {
   "cell_type": "code",
   "execution_count": 6,
   "metadata": {},
   "outputs": [],
   "source": [
    "#Much like Linear Regression, we need a shared variable weight matrix for Logistic Regression.\n",
    "#We initialize both W and b as tensors full of zeros.\n",
    "#We define two TensorFlow variables as our parameters. \n",
    "#These variables will hold the weights and biases of our logistic regression and they will be continually updated during training\n",
    "#Notice that W has a shape of [4, 3] because we want to multiply the 4-dimensional input vectors by it to produce 3-dimensional \n",
    "#vectors of evidence for the difference classes. b has a shape of [3] so we can add it to the output.\n",
    "W = tf.Variable(tf.zeros([4, 3]))  # 4-dimensional input and  3 classes\n",
    "b = tf.Variable(tf.zeros([3])) # 3-dimensional output [0,0,1],[0,1,0],[1,0,0]"
   ]
  },
  {
   "cell_type": "code",
   "execution_count": 7,
   "metadata": {},
   "outputs": [],
   "source": [
    "W = tf.Variable(tf.zeros([4, 3]))  # 4-dimensional input and  3 classes\n",
    "b = tf.Variable(tf.zeros([3])) # 3-dimensional output [0,0,1],[0,1,0],[1,0,0]"
   ]
  },
  {
   "cell_type": "code",
   "execution_count": 9,
   "metadata": {},
   "outputs": [],
   "source": [
    "#Randomly sample from a normal distribution with standard deviation .01\n",
    "\n",
    "weights = tf.Variable(tf.random_normal([numFeatures,numLabels],\n",
    "                                       mean=0,\n",
    "                                       stddev=0.01,\n",
    "                                       name=\"weights\"))\n",
    "\n",
    "bias = tf.Variable(tf.random_normal([1,numLabels],\n",
    "                                    mean=0,\n",
    "                                    stddev=0.01,\n",
    "                                    name=\"bias\"))"
   ]
  },
  {
   "cell_type": "code",
   "execution_count": 10,
   "metadata": {},
   "outputs": [],
   "source": [
    "#y=sigmoid(wx+b) broken down into 3 main steps\n",
    "# 1) a weight times features matrix multiplication operation,\n",
    "# 2) a summation of the weighted features and a bias term,\n",
    "# 3) and finally the application of a sigmoid function.\n",
    "# Three-component breakdown of the Logistic Regression equation.\n",
    "# Note that these feed into each other.\n",
    "apply_weights_OP = tf.matmul(X, weights, name=\"apply_weights\")\n",
    "add_bias_OP = tf.add(apply_weights_OP, bias, name=\"add_bias\") \n",
    "activation_OP = tf.nn.sigmoid(add_bias_OP, name=\"activation\")"
   ]
  },
  {
   "cell_type": "code",
   "execution_count": 11,
   "metadata": {},
   "outputs": [],
   "source": [
    "#The learning algorithm is how we search for the best weight vector ( 𝐰 ).\n",
    "#This search is an optimization problem looking for the hypothesis that optimizes an error/cost measure.\n",
    "#Before defining our cost function,\n",
    "#we need to define how long we are going to train and how should we define the learning rate.\n",
    "# Number of Epochs in our training\n",
    "numEpochs = 700\n",
    "\n",
    "# Defining our learning rate iterations (decay)\n",
    "learningRate = tf.train.exponential_decay(learning_rate=0.0008,\n",
    "                                          global_step= 1,\n",
    "                                          decay_steps=trainX.shape[0],\n",
    "                                          decay_rate= 0.95,\n",
    "                                          staircase=True)"
   ]
  },
  {
   "cell_type": "code",
   "execution_count": 12,
   "metadata": {},
   "outputs": [],
   "source": [
    "#Defining our cost function - Squared Mean Error\n",
    "cost_OP = tf.nn.l2_loss(activation_OP-yGold, name=\"squared_error_cost\")\n",
    "\n",
    "#Defining our Gradient Descent\n",
    "training_OP = tf.train.GradientDescentOptimizer(learningRate).minimize(cost_OP)"
   ]
  },
  {
   "cell_type": "code",
   "execution_count": 13,
   "metadata": {},
   "outputs": [],
   "source": [
    "#Now we move on to actually running our operations. \n",
    "#We start with the operations involved in the prediction phase (i.e. the logistic regression itself).\n",
    "#First, we need to initialize our weights and biases with zeros or random values via the inbuilt Initialization Op,\n",
    "#tf.initialize_all_variables(). This Initialization Op will become a node in our computational graph, and when we put \n",
    "#the graph into a session, then the Op will run and create the variables.\n",
    "# Create a tensorflow session\n",
    "sess = tf.Session()\n",
    "\n",
    "# Initialize our weights and biases variables.\n",
    "init_OP = tf.global_variables_initializer()\n",
    "\n",
    "# Initialize all tensorflow variables\n",
    "sess.run(init_OP)"
   ]
  },
  {
   "cell_type": "code",
   "execution_count": 14,
   "metadata": {},
   "outputs": [],
   "source": [
    "# argmax(activation_OP, 1) returns the label with the most probability\n",
    "# argmax(yGold, 1) is the correct label\n",
    "correct_predictions_OP = tf.equal(tf.argmax(activation_OP,1),tf.argmax(yGold,1))\n",
    "\n",
    "# If every false prediction is 0 and every true prediction is 1, the average returns us the accuracy\n",
    "accuracy_OP = tf.reduce_mean(tf.cast(correct_predictions_OP, \"float\"))\n",
    "\n",
    "# Summary op for regression output\n",
    "activation_summary_OP = tf.summary.histogram(\"output\", activation_OP)\n",
    "\n",
    "# Summary op for accuracy\n",
    "accuracy_summary_OP = tf.summary.scalar(\"accuracy\", accuracy_OP)\n",
    "\n",
    "# Summary op for cost\n",
    "cost_summary_OP = tf.summary.scalar(\"cost\", cost_OP)\n",
    "\n",
    "# Summary ops to check how variables (W, b) are updating after each iteration\n",
    "weightSummary = tf.summary.histogram(\"weights\", weights.eval(session=sess))\n",
    "biasSummary = tf.summary.histogram(\"biases\", bias.eval(session=sess))\n",
    "\n",
    "# Merge all summaries\n",
    "merged = tf.summary.merge([activation_summary_OP, accuracy_summary_OP, cost_summary_OP, weightSummary, biasSummary])\n",
    "\n",
    "# Summary writer\n",
    "writer = tf.summary.FileWriter(\"summary_logs\", sess.graph)"
   ]
  },
  {
   "cell_type": "code",
   "execution_count": 15,
   "metadata": {},
   "outputs": [
    {
     "name": "stdout",
     "output_type": "stream",
     "text": [
      "step 0, training accuracy 0.333333, cost 34.1216, change in cost 34.1216\n",
      "step 10, training accuracy 0.636364, cost 29.927, change in cost 4.19459\n",
      "step 20, training accuracy 0.646465, cost 27.9932, change in cost 1.93373\n",
      "step 30, training accuracy 0.646465, cost 26.3709, change in cost 1.62231\n",
      "step 40, training accuracy 0.646465, cost 25.0277, change in cost 1.34321\n",
      "step 50, training accuracy 0.646465, cost 23.9199, change in cost 1.10786\n",
      "step 60, training accuracy 0.646465, cost 23.0033, change in cost 0.916607\n",
      "step 70, training accuracy 0.646465, cost 22.2395, change in cost 0.763802\n",
      "step 80, training accuracy 0.646465, cost 21.5971, change in cost 0.642366\n",
      "step 90, training accuracy 0.646465, cost 21.0514, change in cost 0.545696\n",
      "step 100, training accuracy 0.656566, cost 20.5831, change in cost 0.468323\n",
      "step 110, training accuracy 0.666667, cost 20.1772, change in cost 0.405914\n",
      "step 120, training accuracy 0.666667, cost 19.822, change in cost 0.355162\n",
      "step 130, training accuracy 0.666667, cost 19.5085, change in cost 0.313515\n",
      "step 140, training accuracy 0.666667, cost 19.2294, change in cost 0.279037\n",
      "step 150, training accuracy 0.666667, cost 18.9792, change in cost 0.250259\n",
      "step 160, training accuracy 0.686869, cost 18.7532, change in cost 0.226028\n",
      "step 170, training accuracy 0.686869, cost 18.5477, change in cost 0.205471\n",
      "step 180, training accuracy 0.69697, cost 18.3598, change in cost 0.187906\n",
      "step 190, training accuracy 0.707071, cost 18.187, change in cost 0.172785\n",
      "step 200, training accuracy 0.717172, cost 18.0273, change in cost 0.159685\n",
      "step 210, training accuracy 0.737374, cost 17.879, change in cost 0.148266\n",
      "step 220, training accuracy 0.737374, cost 17.7408, change in cost 0.138252\n",
      "step 230, training accuracy 0.747475, cost 17.6114, change in cost 0.129423\n",
      "step 240, training accuracy 0.757576, cost 17.4898, change in cost 0.121597\n",
      "step 250, training accuracy 0.777778, cost 17.3752, change in cost 0.114624\n",
      "step 260, training accuracy 0.787879, cost 17.2668, change in cost 0.108387\n",
      "step 270, training accuracy 0.787879, cost 17.164, change in cost 0.102779\n",
      "step 280, training accuracy 0.787879, cost 17.0663, change in cost 0.0977173\n",
      "step 290, training accuracy 0.787879, cost 16.9731, change in cost 0.0931301\n",
      "step 300, training accuracy 0.79798, cost 16.8842, change in cost 0.0889568\n",
      "step 310, training accuracy 0.79798, cost 16.799, change in cost 0.0851498\n",
      "step 320, training accuracy 0.79798, cost 16.7174, change in cost 0.0816612\n",
      "step 330, training accuracy 0.79798, cost 16.6389, change in cost 0.078455\n",
      "step 340, training accuracy 0.818182, cost 16.5634, change in cost 0.0754967\n",
      "step 350, training accuracy 0.818182, cost 16.4906, change in cost 0.0727692\n",
      "step 360, training accuracy 0.828283, cost 16.4204, change in cost 0.0702343\n",
      "step 370, training accuracy 0.838384, cost 16.3525, change in cost 0.0678806\n",
      "step 380, training accuracy 0.838384, cost 16.2868, change in cost 0.0656853\n",
      "step 390, training accuracy 0.838384, cost 16.2232, change in cost 0.0636406\n",
      "step 400, training accuracy 0.848485, cost 16.1615, change in cost 0.061718\n",
      "step 410, training accuracy 0.848485, cost 16.1016, change in cost 0.0599232\n",
      "step 420, training accuracy 0.848485, cost 16.0433, change in cost 0.0582294\n",
      "step 430, training accuracy 0.858586, cost 15.9867, change in cost 0.0566368\n",
      "step 440, training accuracy 0.868687, cost 15.9316, change in cost 0.055131\n",
      "step 450, training accuracy 0.868687, cost 15.8779, change in cost 0.053709\n",
      "step 460, training accuracy 0.878788, cost 15.8255, change in cost 0.0523615\n",
      "step 470, training accuracy 0.878788, cost 15.7744, change in cost 0.0510855\n",
      "step 480, training accuracy 0.878788, cost 15.7245, change in cost 0.0498686\n",
      "step 490, training accuracy 0.878788, cost 15.6758, change in cost 0.0487156\n",
      "step 500, training accuracy 0.878788, cost 15.6282, change in cost 0.0476151\n",
      "step 510, training accuracy 0.878788, cost 15.5817, change in cost 0.0465631\n",
      "step 520, training accuracy 0.888889, cost 15.5361, change in cost 0.0455599\n",
      "step 530, training accuracy 0.888889, cost 15.4915, change in cost 0.0445995\n",
      "step 540, training accuracy 0.89899, cost 15.4478, change in cost 0.0436811\n",
      "step 550, training accuracy 0.89899, cost 15.405, change in cost 0.0427971\n",
      "step 560, training accuracy 0.89899, cost 15.3631, change in cost 0.0419512\n",
      "step 570, training accuracy 0.89899, cost 15.3219, change in cost 0.0411396\n",
      "step 580, training accuracy 0.89899, cost 15.2816, change in cost 0.0403585\n",
      "step 590, training accuracy 0.89899, cost 15.242, change in cost 0.0396013\n",
      "step 600, training accuracy 0.909091, cost 15.2031, change in cost 0.0388765\n",
      "step 610, training accuracy 0.909091, cost 15.1649, change in cost 0.0381784\n",
      "step 620, training accuracy 0.909091, cost 15.1274, change in cost 0.0375023\n",
      "step 630, training accuracy 0.909091, cost 15.0906, change in cost 0.03685\n",
      "step 640, training accuracy 0.909091, cost 15.0543, change in cost 0.0362186\n",
      "step 650, training accuracy 0.909091, cost 15.0187, change in cost 0.0356083\n",
      "step 660, training accuracy 0.909091, cost 14.9837, change in cost 0.035018\n",
      "step 670, training accuracy 0.909091, cost 14.9493, change in cost 0.0344448\n",
      "step 680, training accuracy 0.909091, cost 14.9154, change in cost 0.0338907\n",
      "step 690, training accuracy 0.909091, cost 14.882, change in cost 0.0333529\n",
      "final accuracy on test set: 0.9\n"
     ]
    }
   ],
   "source": [
    "# Initialize reporting variables\n",
    "cost = 0\n",
    "diff = 1\n",
    "epoch_values = []\n",
    "accuracy_values = []\n",
    "cost_values = []\n",
    "\n",
    "# Training epochs\n",
    "for i in range(numEpochs):\n",
    "    if i > 1 and diff < .0001:\n",
    "        print(\"change in cost %g; convergence.\"%diff)\n",
    "        break\n",
    "    else:\n",
    "        # Run training step\n",
    "        step = sess.run(training_OP, feed_dict={X: trainX, yGold: trainY})\n",
    "        # Report occasional stats\n",
    "        if i % 10 == 0:\n",
    "            # Add epoch to epoch_values\n",
    "            epoch_values.append(i)\n",
    "            # Generate accuracy stats on test data\n",
    "            train_accuracy, newCost = sess.run([accuracy_OP, cost_OP], feed_dict={X: trainX, yGold: trainY})\n",
    "            # Add accuracy to live graphing variable\n",
    "            accuracy_values.append(train_accuracy)\n",
    "            # Add cost to live graphing variable\n",
    "            cost_values.append(newCost)\n",
    "            # Re-assign values for variables\n",
    "            diff = abs(newCost - cost)\n",
    "            cost = newCost\n",
    "\n",
    "            #generate print statements\n",
    "            print(\"step %d, training accuracy %g, cost %g, change in cost %g\"%(i, train_accuracy, newCost, diff))\n",
    "\n",
    "\n",
    "# How well do we perform on held-out test data?\n",
    "print(\"final accuracy on test set: %s\" %str(sess.run(accuracy_OP, \n",
    "                                                     feed_dict={X: testX, \n",
    "                                                                yGold: testY})))"
   ]
  },
  {
   "cell_type": "code",
   "execution_count": 16,
   "metadata": {},
   "outputs": [
    {
     "name": "stderr",
     "output_type": "stream",
     "text": [
      "C:\\Users\\AKSHIT\\Anaconda3\\envs\\tf_gpu\\lib\\site-packages\\numpy\\core\\fromnumeric.py:3335: RuntimeWarning: Mean of empty slice.\n",
      "  out=out, **kwargs)\n",
      "C:\\Users\\AKSHIT\\Anaconda3\\envs\\tf_gpu\\lib\\site-packages\\numpy\\core\\_methods.py:161: RuntimeWarning: invalid value encountered in double_scalars\n",
      "  ret = ret.dtype.type(ret / rcount)\n"
     ]
    },
    {
     "data": {
      "image/png": "[encoded data removed]",
      "text/plain": [
       "<Figure size 432x288 with 1 Axes>"
      ]
     },
     "metadata": {
      "needs_background": "light"
     },
     "output_type": "display_data"
    }
   ],
   "source": [
    "%matplotlib inline\n",
    "import numpy as np\n",
    "import matplotlib.pyplot as plt\n",
    "plt.plot([np.mean(cost_values[i-50:i]) for i in range(len(cost_values))])\n",
    "plt.show()"
   ]
  }
 ],
 "metadata": {
  "kernelspec": {
   "display_name": "Python 3",
   "language": "python",
   "name": "python3"
  },
  "language_info": {
   "codemirror_mode": {
    "name": "ipython",
    "version": 3
   },
   "file_extension": ".py",
   "mimetype": "text/x-python",
   "name": "python",
   "nbconvert_exporter": "python",
   "pygments_lexer": "ipython3",
   "version": "3.7.7"
  }
 },
 "nbformat": 4,
 "nbformat_minor": 4
}
